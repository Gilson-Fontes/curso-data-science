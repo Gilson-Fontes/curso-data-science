{
 "cells": [
  {
   "cell_type": "markdown",
   "metadata": {
    "colab_type": "text",
    "id": "u8lAgXJGRg66"
   },
   "source": [
    "# Introdução ao Python\n",
    "\n",
    "**Autor:** Felipe Maia Polo - Fundador e ex-presidente do Neuron - *Data science and Artificial Intelligence*, economista pela USP e mestrando em Estatística pela mesma instituição. Apaixonado por matemática, estatística e *data science*.\n",
    "\n",
    "**Contato:** felipemaiapolo@gmail.com - https://www.linkedin.com/in/felipemaiapolo/\n",
    "\n",
    "**Feedback:** https://forms.gle/U6yBVSYwxNRWaE15A\n",
    "\n",
    "**Sugestões de leitura**\n",
    "\n",
    "1. **Probabilidade:** Ross, S. (2014). A first course in probability. Pearson.\n",
    "2. **Probabilidade e Estatística:** Morettin, P. A., & BUSSAB, W. O. (2017). Estatística básica. Editora Saraiva.\n",
    "3. **Análise de Regressão (linear & logística):** Wooldridge, J. M. (2015). Introductory econometrics: A modern approach. Nelson Education.\n",
    "4. **Machine Learning:** James, G., Witten, D., Hastie, T., & Tibshirani, R. (2013). An introduction to statistical learning (Vol. 112, p. 18). New York: springer.\n"
   ]
  },
  {
   "cell_type": "markdown",
   "metadata": {
    "colab_type": "text",
    "id": "M1iJNDuRW_5R"
   },
   "source": [
    "Python é uma versátil linguagem de programação e que, ultimamente, vem sendo muito usada no mercado para se fazer análise de dados, sobretudo fazer o uso de modelos estatísticos e de *machine learning*. Vou primeiramente apresentar algumas das principais funções da linguagem e depois introduzir os pacotes mais importantes para nós: Numpy e Pandas."
   ]
  },
  {
   "cell_type": "markdown",
   "metadata": {
    "colab_type": "text",
    "id": "Xlet0ptKX_0W"
   },
   "source": [
    "## Funcionalidades da linguagem"
   ]
  },
  {
   "cell_type": "markdown",
   "metadata": {
    "colab_type": "text",
    "id": "egABOkQxYscF"
   },
   "source": [
    "### Variáveis\n",
    "\n",
    "Variáveis são os espaços de memória criado pela linguagem para você manipular e armazenar dados. Para usar uma variável basta escolher uma letra ou palavra e atribuir um valor a ela com o sinal de \"=\". É importante dizer que há diferenciação entre letras maiúsculas e minúsculas, que não pode haver espaços na nomeação e que o primeiro caracter não pode ser um número. Existem basicamente três tipos de variáveis que são mais importantes para nós: as *strings* (guardam textos), *integers* (guardam números inteiros) e *floats* (guardam números racionais).\n"
   ]
  },
  {
   "cell_type": "code",
   "execution_count": 1,
   "metadata": {
    "colab": {
     "base_uri": "https://localhost:8080/",
     "height": 68
    },
    "colab_type": "code",
    "executionInfo": {
     "elapsed": 709,
     "status": "ok",
     "timestamp": 1550510566560,
     "user": {
      "displayName": "Felipe Maia Polo",
      "photoUrl": "",
      "userId": "16246715126141793310"
     },
     "user_tz": 180
    },
    "id": "tBYLum2iRUCe",
    "outputId": "3115202c-95ad-46ff-d33d-fc3d190411b6"
   },
   "outputs": [
    {
     "name": "stdout",
     "output_type": "stream",
     "text": [
      "<class 'str'> Data Science\n",
      "<class 'int'> 42\n",
      "<class 'float'> 3.1415\n"
     ]
    }
   ],
   "source": [
    "#Criando variável do tipo string\n",
    "x=\"Data Science\"\n",
    "\n",
    "#Criando variável do tipo integer\n",
    "y=42\n",
    "\n",
    "#Criando variável do tipo float\n",
    "z=3.1415\n",
    "\n",
    "#Mostrando os valores e tipos das nossas variáveis\n",
    "print(type(x),x)\n",
    "print(type(y),y)\n",
    "print(type(z),z)"
   ]
  },
  {
   "cell_type": "markdown",
   "metadata": {
    "colab_type": "text",
    "id": "-tobQt4_bcJV"
   },
   "source": [
    "O Python designa o tipo da variável automaticamente quando incluímos seus valores. É possível fazer a conversão de um  tipo de variável para outro:"
   ]
  },
  {
   "cell_type": "code",
   "execution_count": 2,
   "metadata": {
    "colab": {
     "base_uri": "https://localhost:8080/",
     "height": 51
    },
    "colab_type": "code",
    "executionInfo": {
     "elapsed": 552,
     "status": "ok",
     "timestamp": 1550510574337,
     "user": {
      "displayName": "Felipe Maia Polo",
      "photoUrl": "",
      "userId": "16246715126141793310"
     },
     "user_tz": 180
    },
    "id": "fgbFqBdob-u9",
    "outputId": "2bfaf183-56e8-4c54-a467-9ffeaff11dab"
   },
   "outputs": [
    {
     "name": "stdout",
     "output_type": "stream",
     "text": [
      "<class 'float'> 2.71\n",
      "<class 'float'> 42.0\n"
     ]
    }
   ],
   "source": [
    "#Convertendo uma string em float\n",
    "\n",
    "w=\"2.71\"\n",
    "w=float(w)\n",
    "\n",
    "print(type(w),w)\n",
    "\n",
    "#Convertendo uma integer em float\n",
    "\n",
    "y=float(y)\n",
    "\n",
    "print(type(y),y)"
   ]
  },
  {
   "cell_type": "markdown",
   "metadata": {
    "colab_type": "text",
    "id": "4yn70EyccZGz"
   },
   "source": [
    "### Operadores\n",
    "\n",
    "Para realizarmos as operações (matemáticas e testes lógicos) no Python usamos os operadores. Os operadores matemáticos nos permitem fazer somas, subtrações, divisões entre outras operações. Já os operadores lógicos realizam comparações e a resposta da linguagem será ou Verdadeiro (true) ou Falso (false).   "
   ]
  },
  {
   "cell_type": "code",
   "execution_count": 3,
   "metadata": {
    "colab": {
     "base_uri": "https://localhost:8080/",
     "height": 85
    },
    "colab_type": "code",
    "executionInfo": {
     "elapsed": 851,
     "status": "ok",
     "timestamp": 1550510576594,
     "user": {
      "displayName": "Felipe Maia Polo",
      "photoUrl": "",
      "userId": "16246715126141793310"
     },
     "user_tz": 180
    },
    "id": "9ncRo3KpRUG9",
    "outputId": "2f477c9c-7e6e-443d-dd73-d78945d2d836"
   },
   "outputs": [
    {
     "name": "stdout",
     "output_type": "stream",
     "text": [
      "-5\n",
      "-5\n",
      "2.6666666666666665\n",
      "0.125\n"
     ]
    }
   ],
   "source": [
    "#Realizando algumas operações matemáticas\n",
    "x=3\n",
    "y=8\n",
    "z=-1\n",
    "\n",
    "print(x-y) #Subtração\n",
    "print(y*z+x) #Multiplicação e adição\n",
    "print(y/x) #Divisão\n",
    "print(y**z) #Potenciação"
   ]
  },
  {
   "cell_type": "code",
   "execution_count": 4,
   "metadata": {
    "colab": {
     "base_uri": "https://localhost:8080/",
     "height": 153
    },
    "colab_type": "code",
    "executionInfo": {
     "elapsed": 574,
     "status": "ok",
     "timestamp": 1550510578384,
     "user": {
      "displayName": "Felipe Maia Polo",
      "photoUrl": "",
      "userId": "16246715126141793310"
     },
     "user_tz": 180
    },
    "id": "mSmJGLRHd7DH",
    "outputId": "719ad662-87a3-4920-cc9a-00866017dade"
   },
   "outputs": [
    {
     "name": "stdout",
     "output_type": "stream",
     "text": [
      "3<4: True\n",
      "3>4: False\n",
      "1>=1: True\n",
      "9==9: True\n",
      "x>(z+3)**2: False\n",
      "\n",
      "\n",
      "<class 'bool'> True\n"
     ]
    }
   ],
   "source": [
    "#Realizando alguns testes lógicos\n",
    "\n",
    "print(\"3<4:\",3<4)\n",
    "print(\"3>4:\",3>4)\n",
    "print(\"1>=1:\",1>=1)\n",
    "print(\"9==9:\",9==9)\n",
    "print(\"x>(z+3)**2:\",x>(z+3)**2)\n",
    "\n",
    "#Podemos guardar o valor do teste dentro de uma variável\n",
    "teste=3<4\n",
    "print(\"\\n\")\n",
    "print(type(teste),teste)"
   ]
  },
  {
   "cell_type": "markdown",
   "metadata": {
    "colab_type": "text",
    "id": "H98EMuZQhj8M"
   },
   "source": [
    "### Listas\n",
    "\n",
    "Listas são objetos capazes de armazenar outros objetos, sendo que uma lista pode conter qualquer coisa, inclusive outra lista. Cada valor da lista recebe um índice a partir do 0:"
   ]
  },
  {
   "cell_type": "code",
   "execution_count": 5,
   "metadata": {
    "colab": {
     "base_uri": "https://localhost:8080/",
     "height": 68
    },
    "colab_type": "code",
    "executionInfo": {
     "elapsed": 617,
     "status": "ok",
     "timestamp": 1550510580984,
     "user": {
      "displayName": "Felipe Maia Polo",
      "photoUrl": "",
      "userId": "16246715126141793310"
     },
     "user_tz": 180
    },
    "id": "7ZAtCUhJeZc1",
    "outputId": "4ffa90b2-318b-4d54-b309-93cd86caae98"
   },
   "outputs": [
    {
     "name": "stdout",
     "output_type": "stream",
     "text": [
      "<class 'list'>\n",
      "5\n",
      "[2, '1', ['big', 'data'], 4, 5.0]\n"
     ]
    }
   ],
   "source": [
    "#Criando uma lista\n",
    "lista = [2,'1',['big','data'],4,5.0]\n",
    "\n",
    "print(type(lista)) \n",
    "print(len(lista)) #Tamanho da lista\n",
    "print(lista)"
   ]
  },
  {
   "cell_type": "code",
   "execution_count": 6,
   "metadata": {
    "colab": {
     "base_uri": "https://localhost:8080/",
     "height": 102
    },
    "colab_type": "code",
    "executionInfo": {
     "elapsed": 422,
     "status": "ok",
     "timestamp": 1550510582198,
     "user": {
      "displayName": "Felipe Maia Polo",
      "photoUrl": "",
      "userId": "16246715126141793310"
     },
     "user_tz": 180
    },
    "id": "R7jrBCC3hvV8",
    "outputId": "87d604fd-2fce-428b-de8b-3dcd71b731f6"
   },
   "outputs": [
    {
     "name": "stdout",
     "output_type": "stream",
     "text": [
      "lista[0]:    2\n",
      "lista[-1]:   5.0\n",
      "lista[1:4]:  ['1', ['big', 'data'], 4]\n",
      "lista[4:]:   [5.0]\n",
      "lista[:2]:   [2, '1']\n"
     ]
    }
   ],
   "source": [
    "#Acessando alguns dos objetos dentra da lista pelos índices\n",
    "print(\"lista[0]:   \",lista[0])\n",
    "print(\"lista[-1]:  \",lista[-1])\n",
    "print(\"lista[1:4]: \",lista[1:4]) #perceba que quando utilizamos \"x:y\", o Python retorna os elementos de \"x\" a \"y-1\"\n",
    "print(\"lista[4:]:  \",lista[4:])\n",
    "print(\"lista[:2]:  \",lista[:2])"
   ]
  },
  {
   "cell_type": "markdown",
   "metadata": {
    "colab_type": "text",
    "id": "1iI4Wr1-j-jD"
   },
   "source": [
    "É possível adicionar ou remover objetos dentro de listas já existentes, além de ser possível concatenar duas listas:"
   ]
  },
  {
   "cell_type": "code",
   "execution_count": 7,
   "metadata": {
    "colab": {
     "base_uri": "https://localhost:8080/",
     "height": 187
    },
    "colab_type": "code",
    "executionInfo": {
     "elapsed": 564,
     "status": "ok",
     "timestamp": 1550510584833,
     "user": {
      "displayName": "Felipe Maia Polo",
      "photoUrl": "",
      "userId": "16246715126141793310"
     },
     "user_tz": 180
    },
    "id": "QzvGMUK5j8mw",
    "outputId": "84b9d312-9985-494b-e9b3-939e27dacdc3"
   },
   "outputs": [
    {
     "name": "stdout",
     "output_type": "stream",
     "text": [
      "[6, '99', 'Data Science', '99']\n",
      "\n",
      "\n",
      "True\n",
      "\n",
      "\n",
      "[6, 'Data Science', '99']\n",
      "\n",
      "\n",
      "[2, '1', ['big', 'data'], 4, 5.0, 6, 'Data Science', '99']\n"
     ]
    }
   ],
   "source": [
    "#Criando lista vazia\n",
    "lista2=[]\n",
    "\n",
    "#Preenchendo a lista\n",
    "lista2.append(6)\n",
    "lista2.append(\"99\")\n",
    "lista2.append(\"Data Science\")\n",
    "lista2.append(\"99\")\n",
    "\n",
    "print(lista2)\n",
    "\n",
    "#Checando se há um elemento específico dentro da lista\n",
    "print(\"\\n\") #Pulando uma linha no output\n",
    "print(\"99\" in lista2)\n",
    "\n",
    "#Excluindo um elemento específico\n",
    "lista2.remove('99')\n",
    "\n",
    "print(\"\\n\") #Pulando uma linha no output\n",
    "print(lista2)\n",
    "\n",
    "#Concatenando duas listas\n",
    "lista.extend(lista2)\n",
    "\n",
    "print(\"\\n\") #Pulando uma linha no output\n",
    "print(lista)"
   ]
  },
  {
   "cell_type": "markdown",
   "metadata": {
    "colab_type": "text",
    "id": "5m-IKa4EloaS"
   },
   "source": [
    "### Dicionário\n",
    "\n",
    "Outro tipo de objeto semelhante às listas é o Dicionário. O dicionário armazena uma sequência de objetos os quais cada item é uma **chave**, que é associada a um valor:"
   ]
  },
  {
   "cell_type": "code",
   "execution_count": 8,
   "metadata": {
    "colab": {
     "base_uri": "https://localhost:8080/",
     "height": 34
    },
    "colab_type": "code",
    "executionInfo": {
     "elapsed": 615,
     "status": "ok",
     "timestamp": 1548883033448,
     "user": {
      "displayName": "Felipe Maia Polo",
      "photoUrl": "",
      "userId": "16246715126141793310"
     },
     "user_tz": 120
    },
    "id": "cGmiNbBfiNeP",
    "outputId": "4783e66c-5103-45e9-a6fb-7286206cf94e"
   },
   "outputs": [
    {
     "name": "stdout",
     "output_type": "stream",
     "text": [
      "{'carro': 'gol', 'comida': 'pizza', 'animal': 'abelha', 'matéria': 'matemática', 'número': 70}\n"
     ]
    }
   ],
   "source": [
    "#Criando um dicionário\n",
    "dic={'carro': 'gol', 'comida': 'pizza', \n",
    "            'animal': 'abelha', 'matéria': 'matemática','número':70}\n",
    "\n",
    "print(dic)"
   ]
  },
  {
   "cell_type": "markdown",
   "metadata": {
    "colab_type": "text",
    "id": "W1JOC_6Fnq4v"
   },
   "source": [
    "Podemos adicionar, alterar e acessar os objetos dentro dos dicionários por suas chaves:"
   ]
  },
  {
   "cell_type": "code",
   "execution_count": 9,
   "metadata": {
    "colab": {
     "base_uri": "https://localhost:8080/",
     "height": 68
    },
    "colab_type": "code",
    "executionInfo": {
     "elapsed": 624,
     "status": "ok",
     "timestamp": 1548883123380,
     "user": {
      "displayName": "Felipe Maia Polo",
      "photoUrl": "",
      "userId": "16246715126141793310"
     },
     "user_tz": 120
    },
    "id": "eH_zzdg9nqKU",
    "outputId": "11700778-2f9d-4814-d03d-0ec581599e02"
   },
   "outputs": [
    {
     "name": "stdout",
     "output_type": "stream",
     "text": [
      "gol\n",
      "corsa\n",
      "3.14\n"
     ]
    }
   ],
   "source": [
    "#Acessando um objeto\n",
    "print(dic[\"carro\"])\n",
    "\n",
    "#Alterando o objeto \n",
    "dic[\"carro\"]=\"corsa\"\n",
    "print(dic[\"carro\"])\n",
    "\n",
    "#Adicionando objeto \n",
    "dic[99]=3.14\n",
    "print(dic[99])"
   ]
  },
  {
   "cell_type": "markdown",
   "metadata": {
    "colab_type": "text",
    "id": "nyMW_E60oTLJ"
   },
   "source": [
    "O dicionário é muito útil pois os índices são customizáveis, ao contrário das listas, e pode-se guardar qualquer tipo de objeto dentro, até mesmo bases de dados."
   ]
  },
  {
   "cell_type": "markdown",
   "metadata": {
    "colab_type": "text",
    "id": "jd9wn27lzF2A"
   },
   "source": [
    "### Loops\n",
    "\n",
    "Os loops são estruturas usadas para repetir o mesmo bloco de comandos várias vezes. Estudaremos duas função de repetição do python o **while():** e o  **for**.\n",
    "\n",
    "O *for*  repete o bloco de comando até que um limite estabelecido seja atingido (e.g. \"para i começando de 0 até i=4, faça alguma coisa\"), a sintaxe é feita da seguinte forma:"
   ]
  },
  {
   "cell_type": "code",
   "execution_count": 10,
   "metadata": {
    "colab": {
     "base_uri": "https://localhost:8080/",
     "height": 102
    },
    "colab_type": "code",
    "executionInfo": {
     "elapsed": 3164,
     "status": "ok",
     "timestamp": 1548886200190,
     "user": {
      "displayName": "Felipe Maia Polo",
      "photoUrl": "",
      "userId": "16246715126141793310"
     },
     "user_tz": 120
    },
    "id": "oZEjNDdinm-o",
    "outputId": "416889f5-690e-4310-f3bb-4e5737b1468f"
   },
   "outputs": [
    {
     "name": "stdout",
     "output_type": "stream",
     "text": [
      "0 0\n",
      "1 1\n",
      "2 4\n",
      "3 9\n",
      "4 16\n"
     ]
    }
   ],
   "source": [
    "#Exemplo For\n",
    "for item in range(5):\n",
    "    print (item, item**2) #número e seu quadrado"
   ]
  },
  {
   "cell_type": "markdown",
   "metadata": {
    "colab_type": "text",
    "id": "ucIhOdCGz-RC"
   },
   "source": [
    "É importante dizer que é possível iterar sobre objetos de uma lista:"
   ]
  },
  {
   "cell_type": "code",
   "execution_count": 11,
   "metadata": {
    "colab": {
     "base_uri": "https://localhost:8080/",
     "height": 68
    },
    "colab_type": "code",
    "executionInfo": {
     "elapsed": 431,
     "status": "ok",
     "timestamp": 1548886361128,
     "user": {
      "displayName": "Felipe Maia Polo",
      "photoUrl": "",
      "userId": "16246715126141793310"
     },
     "user_tz": 120
    },
    "id": "dEsRdAqkz9n2",
    "outputId": "57dcdfed-e4d8-48c0-cd0d-5b487188a0c1"
   },
   "outputs": [
    {
     "name": "stdout",
     "output_type": "stream",
     "text": [
      "carro : gol\n",
      "animal : abelha\n",
      "matéria : matemática\n"
     ]
    }
   ],
   "source": [
    "#Criando um dicionário\n",
    "dic={'carro': 'gol', 'comida': 'pizza', \n",
    "            'animal': 'abelha', 'matéria': 'matemática','número':70}\n",
    "\n",
    "index=['carro','animal','matéria']\n",
    "\n",
    "for i in index:\n",
    "    print(i,\":\",dic[i])"
   ]
  },
  {
   "cell_type": "markdown",
   "metadata": {
    "colab_type": "text",
    "id": "o6RnrmdI0toP"
   },
   "source": [
    "O loop *While* repete ações até que uma condição, inicialmente verdadeira, seja falsa:"
   ]
  },
  {
   "cell_type": "code",
   "execution_count": 12,
   "metadata": {
    "colab": {
     "base_uri": "https://localhost:8080/",
     "height": 34
    },
    "colab_type": "code",
    "executionInfo": {
     "elapsed": 657,
     "status": "ok",
     "timestamp": 1548886642847,
     "user": {
      "displayName": "Felipe Maia Polo",
      "photoUrl": "",
      "userId": "16246715126141793310"
     },
     "user_tz": 120
    },
    "id": "JMM7e2uH0nTS",
    "outputId": "385fc55e-1367-4e81-8309-c54fa62eb5fe"
   },
   "outputs": [
    {
     "name": "stdout",
     "output_type": "stream",
     "text": [
      "1\n",
      "2\n",
      "3\n",
      "4\n",
      "5\n",
      "6\n",
      "7\n",
      "8\n",
      "9\n",
      "10\n"
     ]
    }
   ],
   "source": [
    "#Exemplo While\n",
    "i=0\n",
    "\n",
    "while i<10:\n",
    "    i=i+1\n",
    "    print(i)"
   ]
  },
  {
   "cell_type": "markdown",
   "metadata": {
    "colab_type": "text",
    "id": "GxI8At1YuGod"
   },
   "source": [
    "### Condicionais\n",
    "\n",
    "Um aspecto intrínseco à codificação é o processo decisório. No Python, este processo se dá por meio da avaliação de expressões booleanas (expressões cujo resultado ou é TRUE ou é FALSE). Ou seja, em determinada situação, se a expressão booleana der TRUE, o programa seguirá um caminho, caso dê false, seguirá outro. A estrutura decisória é apresentada da seguinte forma:"
   ]
  },
  {
   "cell_type": "code",
   "execution_count": 13,
   "metadata": {
    "colab": {
     "base_uri": "https://localhost:8080/",
     "height": 34
    },
    "colab_type": "code",
    "executionInfo": {
     "elapsed": 596,
     "status": "ok",
     "timestamp": 1548886981581,
     "user": {
      "displayName": "Felipe Maia Polo",
      "photoUrl": "",
      "userId": "16246715126141793310"
     },
     "user_tz": 120
    },
    "id": "X_GQR98A2gA4",
    "outputId": "8eaf786f-9028-42ba-d727-24b9d7d86e93"
   },
   "outputs": [
    {
     "name": "stdout",
     "output_type": "stream",
     "text": [
      "4\n"
     ]
    }
   ],
   "source": [
    "#Exemplo If\n",
    "x=2\n",
    "\n",
    "if x<3:\n",
    "    print(x**2)\n",
    "else:\n",
    "    print(x)"
   ]
  },
  {
   "cell_type": "markdown",
   "metadata": {
    "colab_type": "text",
    "id": "0EBvHA9E2_eH"
   },
   "source": [
    "No exemplo acima temos uma estrutura condicional muito simples com somente uma condição: Abaixo um exemplo mais complexo:"
   ]
  },
  {
   "cell_type": "code",
   "execution_count": 14,
   "metadata": {
    "colab": {
     "base_uri": "https://localhost:8080/",
     "height": 34
    },
    "colab_type": "code",
    "executionInfo": {
     "elapsed": 695,
     "status": "ok",
     "timestamp": 1548887135729,
     "user": {
      "displayName": "Felipe Maia Polo",
      "photoUrl": "",
      "userId": "16246715126141793310"
     },
     "user_tz": 120
    },
    "id": "V3vZXSTj26Ok",
    "outputId": "c4c33fe2-7f53-453c-90c2-78cbced86016"
   },
   "outputs": [
    {
     "name": "stdout",
     "output_type": "stream",
     "text": [
      "64\n"
     ]
    }
   ],
   "source": [
    "#Exemplo If\n",
    "x=4\n",
    "\n",
    "if x<3:\n",
    "    print(x**2)\n",
    "elif x<5:\n",
    "    print(x**3)\n",
    "else:\n",
    "    print(x)"
   ]
  },
  {
   "cell_type": "markdown",
   "metadata": {
    "colab_type": "text",
    "id": "V3R7BA293o3e"
   },
   "source": [
    "Vamos agora utilizar mais de uma condição para nossos testes:"
   ]
  },
  {
   "cell_type": "code",
   "execution_count": 15,
   "metadata": {
    "colab": {
     "base_uri": "https://localhost:8080/",
     "height": 34
    },
    "colab_type": "code",
    "executionInfo": {
     "elapsed": 679,
     "status": "ok",
     "timestamp": 1548887327037,
     "user": {
      "displayName": "Felipe Maia Polo",
      "photoUrl": "",
      "userId": "16246715126141793310"
     },
     "user_tz": 120
    },
    "id": "udVYzamO3j8A",
    "outputId": "ed298664-44e0-4357-ba79-6835c276097a"
   },
   "outputs": [
    {
     "name": "stdout",
     "output_type": "stream",
     "text": [
      "Terceiro.\n"
     ]
    }
   ],
   "source": [
    "#Exemplo If\n",
    "x=40\n",
    "\n",
    "if x>3 and x<10: #As duas condições devem ser verdadeiras\n",
    "    print(\"Primeiro.\")\n",
    "elif x>50 or x<30: #Pelo menos uma das condições deve ser verdadeira\n",
    "    print(\"Segundo.\")\n",
    "else:\n",
    "    print(\"Terceiro.\")"
   ]
  },
  {
   "cell_type": "markdown",
   "metadata": {
    "colab_type": "text",
    "id": "It1VRUPQ4smv"
   },
   "source": [
    "### Funções\n",
    "\n",
    "As funções em Python são caracterizadas pelo comando \"def\" seguido pelo nome da função e os argumentos que ela recebe, assim indicando o início de uma função:\n",
    "\n",
    "** def minha_funcao(.): **\n",
    "\n",
    "Chamamos de argumentos de uma função os elementos que serão manipuladas dentro de uma função, sendo esses elementos de qualquer tipo oferecido pela linguagem (listas, strings, etc). Para usarmos o resultado gerado por uma função usamos o comando \"return\" - ele permite fazer que esse resultado seja mandado para uma variável fora da função:"
   ]
  },
  {
   "cell_type": "code",
   "execution_count": 16,
   "metadata": {
    "colab": {
     "base_uri": "https://localhost:8080/",
     "height": 34
    },
    "colab_type": "code",
    "executionInfo": {
     "elapsed": 581,
     "status": "ok",
     "timestamp": 1548887515244,
     "user": {
      "displayName": "Felipe Maia Polo",
      "photoUrl": "",
      "userId": "16246715126141793310"
     },
     "user_tz": 120
    },
    "id": "yEFPLQ3l3fx0",
    "outputId": "45b35844-256f-473e-da3d-2f8a0b13b47c"
   },
   "outputs": [
    {
     "data": {
      "text/plain": [
       "2.5"
      ]
     },
     "execution_count": 16,
     "metadata": {},
     "output_type": "execute_result"
    }
   ],
   "source": [
    "#Exemplo 1\n",
    "def media(x1,x2):\n",
    "    return (x1+x2)/2\n",
    "  \n",
    "media(2,3)"
   ]
  },
  {
   "cell_type": "code",
   "execution_count": 17,
   "metadata": {
    "colab": {},
    "colab_type": "code",
    "id": "sHUFnKIc493W"
   },
   "outputs": [],
   "source": [
    "#Exemplo 2 (equações de 2º grau)\n",
    "def bhaskara(a,b,c):\n",
    "    \n",
    "    delta=b**2-4*a*c\n",
    "    \n",
    "    if delta<0:\n",
    "        return \"A equação não tem raízes reais.\"\n",
    "    elif delta==0:\n",
    "        return -b/(2*a)\n",
    "    else:\n",
    "        return (-b-(delta)**.5)/(2*a), (-b+(delta)**.5)/(2*a)"
   ]
  },
  {
   "cell_type": "code",
   "execution_count": 18,
   "metadata": {
    "colab": {
     "base_uri": "https://localhost:8080/",
     "height": 68
    },
    "colab_type": "code",
    "executionInfo": {
     "elapsed": 380,
     "status": "ok",
     "timestamp": 1548888079082,
     "user": {
      "displayName": "Felipe Maia Polo",
      "photoUrl": "",
      "userId": "16246715126141793310"
     },
     "user_tz": 120
    },
    "id": "Qp9M0vkh6MjI",
    "outputId": "425e2d9f-897a-48ae-ed73-25a8847f7dd3"
   },
   "outputs": [
    {
     "name": "stdout",
     "output_type": "stream",
     "text": [
      "A equação não tem raízes reais.\n",
      "(-4.0, 0.0)\n",
      "0.0\n"
     ]
    }
   ],
   "source": [
    "#Resolvendo equações de 2º grau\n",
    "print(bhaskara(1,1,1))\n",
    "print(bhaskara(1,4,0))\n",
    "print(bhaskara(2,0,0))"
   ]
  },
  {
   "cell_type": "code",
   "execution_count": 19,
   "metadata": {
    "colab": {},
    "colab_type": "code",
    "id": "8vhvQSSj6N8v"
   },
   "outputs": [],
   "source": [
    "#Exemplo 3 (concatenando strings)\n",
    "\n",
    "def concat(s1,s2,s3):\n",
    "    return s1+s2+s3"
   ]
  },
  {
   "cell_type": "code",
   "execution_count": 20,
   "metadata": {
    "colab": {
     "base_uri": "https://localhost:8080/",
     "height": 34
    },
    "colab_type": "code",
    "executionInfo": {
     "elapsed": 484,
     "status": "ok",
     "timestamp": 1548888188623,
     "user": {
      "displayName": "Felipe Maia Polo",
      "photoUrl": "",
      "userId": "16246715126141793310"
     },
     "user_tz": 120
    },
    "id": "xwF_W3Af7Sam",
    "outputId": "26de0dfe-1ec7-4d92-aff4-a236019c32e4"
   },
   "outputs": [
    {
     "name": "stdout",
     "output_type": "stream",
     "text": [
      "Hello World!\n"
     ]
    }
   ],
   "source": [
    "print(concat(\"Hello\",\" \",\"World!\"))"
   ]
  },
  {
   "cell_type": "markdown",
   "metadata": {
    "colab_type": "text",
    "id": "9kWGOvxG8BJQ"
   },
   "source": [
    "## Numpy\n",
    "\n",
    "Numpy é um biblioteca do Python que nos permite trabalhar com vetores, matrizes e tensores de forma geral (_arrays_) de forma mais eficiente que as ferramentas nativas da linguagem que usa listas."
   ]
  },
  {
   "cell_type": "code",
   "execution_count": 21,
   "metadata": {
    "colab": {},
    "colab_type": "code",
    "id": "Iap1QASM8DBn"
   },
   "outputs": [],
   "source": [
    "#importando biblioteca\n",
    "import numpy as np"
   ]
  },
  {
   "cell_type": "markdown",
   "metadata": {
    "colab_type": "text",
    "id": "CAUfNFTjfng6"
   },
   "source": [
    "Criando arrays usando a biblioteca Numpy:"
   ]
  },
  {
   "cell_type": "code",
   "execution_count": 22,
   "metadata": {
    "colab": {
     "base_uri": "https://localhost:8080/",
     "height": 153
    },
    "colab_type": "code",
    "executionInfo": {
     "elapsed": 599,
     "status": "ok",
     "timestamp": 1548964843522,
     "user": {
      "displayName": "Felipe Maia Polo",
      "photoUrl": "",
      "userId": "16246715126141793310"
     },
     "user_tz": 120
    },
    "id": "SsE7f1l3fjN-",
    "outputId": "5231a418-397e-4305-8ef5-302f96633c81"
   },
   "outputs": [
    {
     "name": "stdout",
     "output_type": "stream",
     "text": [
      "Array unidimensional(vetor): \n",
      "[1 2 3] \n",
      "\n",
      "Array Bidimensional(matriz): \n",
      "[[1 2 3]\n",
      " [4 5 6]\n",
      " [7 8 9]] \n",
      "\n"
     ]
    }
   ],
   "source": [
    "#inicializando um array\n",
    "\n",
    "#array unidimensional (vetor)\n",
    "arrayU=np.array([1,2,3])\n",
    "print(\"Array unidimensional(vetor): \")\n",
    "print(arrayU,'\\n')\n",
    "\n",
    "#array bidimensional(matriz)\n",
    "arrayB=np.array([[1,2,3],[4,5,6],[7,8,9]])\n",
    "print(\"Array Bidimensional(matriz): \")\n",
    "print(arrayB,'\\n')"
   ]
  },
  {
   "cell_type": "markdown",
   "metadata": {
    "colab_type": "text",
    "id": "i3sCBriSgBET"
   },
   "source": [
    "Podemos criar _arrays_ apenas com zeros com o método np.zeros(). No argumento do método colocamos o formato que o _array_ assumirá:"
   ]
  },
  {
   "cell_type": "code",
   "execution_count": 23,
   "metadata": {
    "colab": {
     "base_uri": "https://localhost:8080/",
     "height": 68
    },
    "colab_type": "code",
    "executionInfo": {
     "elapsed": 600,
     "status": "ok",
     "timestamp": 1548964895620,
     "user": {
      "displayName": "Felipe Maia Polo",
      "photoUrl": "",
      "userId": "16246715126141793310"
     },
     "user_tz": 120
    },
    "id": "99kVY-dnfjVs",
    "outputId": "a49db1a1-59d7-4429-e249-669ce621075a"
   },
   "outputs": [
    {
     "name": "stdout",
     "output_type": "stream",
     "text": [
      "Array de zeros:  [0. 0. 0.]\n",
      "<class 'numpy.float64'>\n",
      "Array de zeros Inteiros:  [0 0 0]\n"
     ]
    }
   ],
   "source": [
    "#podemos criar um array apenas com zeros\n",
    "arrayZeros = np.zeros(3)\n",
    "print(\"Array de zeros: \",arrayZeros)\n",
    "\n",
    "#Automaticamente, a função faz com que os números sejam do tipo float\n",
    "print(type(arrayZeros[0]))\n",
    "\n",
    "#basta fazer o seguinte para mudar o tipo da variável\n",
    "arrayZeros = np.zeros(3,dtype=int)\n",
    "print(\"Array de zeros Inteiros: \",arrayZeros)"
   ]
  },
  {
   "cell_type": "markdown",
   "metadata": {
    "colab_type": "text",
    "id": "GMM27-HggTRk"
   },
   "source": [
    "Podemos criar também _arrays_ de números 1 com o método np.ones() e _arrays_ vazios com o método np.empty():"
   ]
  },
  {
   "cell_type": "code",
   "execution_count": 24,
   "metadata": {
    "colab": {
     "base_uri": "https://localhost:8080/",
     "height": 119
    },
    "colab_type": "code",
    "executionInfo": {
     "elapsed": 615,
     "status": "ok",
     "timestamp": 1548964958351,
     "user": {
      "displayName": "Felipe Maia Polo",
      "photoUrl": "",
      "userId": "16246715126141793310"
     },
     "user_tz": 120
    },
    "id": "el0s9cIGfjch",
    "outputId": "1fe333e8-eb95-4f9f-ada5-cede00c198bf"
   },
   "outputs": [
    {
     "name": "stdout",
     "output_type": "stream",
     "text": [
      "array de 1: \n",
      "[[1. 1.]\n",
      " [1. 1.]\n",
      " [1. 1.]]\n",
      "array vazio: \n",
      "[0. 0. 0.]\n"
     ]
    }
   ],
   "source": [
    "#Array de 1s\n",
    "arrayOne = np.ones([3,2])\n",
    "print(\"array de 1: \")\n",
    "print(arrayOne)\n",
    "\n",
    "#Array vazio\n",
    "arrayEmpty= np.empty(3) #inicializa com o endereço de memória da variável\n",
    "print(\"array vazio: \")\n",
    "print(arrayEmpty)"
   ]
  },
  {
   "cell_type": "markdown",
   "metadata": {
    "colab_type": "text",
    "id": "uB-63u5DgmPY"
   },
   "source": [
    "Podemos também modificar um _array_ já criado mudando seu formato (shape)  como for necessário. Usar método np.shape():"
   ]
  },
  {
   "cell_type": "code",
   "execution_count": 25,
   "metadata": {
    "colab": {
     "base_uri": "https://localhost:8080/",
     "height": 51
    },
    "colab_type": "code",
    "executionInfo": {
     "elapsed": 624,
     "status": "ok",
     "timestamp": 1548965022389,
     "user": {
      "displayName": "Felipe Maia Polo",
      "photoUrl": "",
      "userId": "16246715126141793310"
     },
     "user_tz": 120
    },
    "id": "J4ip70XXfjkB",
    "outputId": "2146c2ef-55f6-4bc2-fa04-e60ffd65462b"
   },
   "outputs": [
    {
     "name": "stdout",
     "output_type": "stream",
     "text": [
      "Array com formato inicial:  [1 2 3 4]\n",
      "Dimensões do array:  (4,)\n"
     ]
    }
   ],
   "source": [
    "#criando um array normal\n",
    "arrayShape = np.array([1,2,3,4])\n",
    "print(\"Array com formato inicial: \",arrayShape)\n",
    "print(\"Dimensões do array: \",arrayShape.shape)"
   ]
  },
  {
   "cell_type": "markdown",
   "metadata": {
    "colab_type": "text",
    "id": "8cQqbzUVgpeF"
   },
   "source": [
    "Modificando as dimensões originais:"
   ]
  },
  {
   "cell_type": "code",
   "execution_count": 26,
   "metadata": {
    "colab": {
     "base_uri": "https://localhost:8080/",
     "height": 85
    },
    "colab_type": "code",
    "executionInfo": {
     "elapsed": 601,
     "status": "ok",
     "timestamp": 1548965102040,
     "user": {
      "displayName": "Felipe Maia Polo",
      "photoUrl": "",
      "userId": "16246715126141793310"
     },
     "user_tz": 120
    },
    "id": "usu1Bpjzgpn-",
    "outputId": "42542cce-e270-41e4-97d0-1197014b83b5"
   },
   "outputs": [
    {
     "name": "stdout",
     "output_type": "stream",
     "text": [
      "Array modificado: \n",
      "[[1 2]\n",
      " [3 4]]\n",
      "Dimensões do array:  (2, 2)\n"
     ]
    }
   ],
   "source": [
    "arrayShape.shape =(2,2)\n",
    "print(\"Array modificado: \")\n",
    "print(arrayShape)\n",
    "print(\"Dimensões do array: \",arrayShape.shape)"
   ]
  },
  {
   "cell_type": "markdown",
   "metadata": {
    "colab_type": "text",
    "id": "tITQp3QmhDkV"
   },
   "source": [
    "É possível também realizar cortes de diversas maneiras no _array_ unidimensional. Agora estudaremos como fazer isso:"
   ]
  },
  {
   "cell_type": "code",
   "execution_count": 27,
   "metadata": {
    "colab": {
     "base_uri": "https://localhost:8080/",
     "height": 68
    },
    "colab_type": "code",
    "executionInfo": {
     "elapsed": 635,
     "status": "ok",
     "timestamp": 1548965145854,
     "user": {
      "displayName": "Felipe Maia Polo",
      "photoUrl": "",
      "userId": "16246715126141793310"
     },
     "user_tz": 120
    },
    "id": "rQjh7iE1g8jS",
    "outputId": "ad0c154b-c016-4cb2-8b60-866eb0e95530"
   },
   "outputs": [
    {
     "name": "stdout",
     "output_type": "stream",
     "text": [
      "Array inicial:  [1 2 3 4 5 6 7 8 9]\n",
      "Array ao contrário:  [9 8 7 6 5 4 3 2 1]\n",
      "Array do meio pra frente:  [6 7 8 9]\n"
     ]
    }
   ],
   "source": [
    "#vamos criar array\n",
    "arrayCortes = np.arange(1,10)\n",
    "\n",
    "#podemos printar o array inteiro com [:]\n",
    "print(\"Array inicial: \",arrayCortes[:])\n",
    "\n",
    "#podemos printar o array ao contrário com [::-1]\n",
    "print(\"Array ao contrário: \",arrayCortes[::-1])\n",
    "\n",
    "#podemos cortar do meio pra frente\n",
    "print(\"Array do meio pra frente: \",arrayCortes[5:])\n"
   ]
  },
  {
   "cell_type": "markdown",
   "metadata": {
    "colab_type": "text",
    "id": "QD4uENQChJmY"
   },
   "source": [
    "O mesmo vale para matrizes:"
   ]
  },
  {
   "cell_type": "code",
   "execution_count": 28,
   "metadata": {
    "colab": {
     "base_uri": "https://localhost:8080/",
     "height": 255
    },
    "colab_type": "code",
    "executionInfo": {
     "elapsed": 674,
     "status": "ok",
     "timestamp": 1548965242091,
     "user": {
      "displayName": "Felipe Maia Polo",
      "photoUrl": "",
      "userId": "16246715126141793310"
     },
     "user_tz": 120
    },
    "id": "W8b_80lIhPJ6",
    "outputId": "6a554449-4db7-4712-e552-5ffa62a78ead"
   },
   "outputs": [
    {
     "name": "stdout",
     "output_type": "stream",
     "text": [
      "Matriz inicial: \n",
      "[[1 2 3]\n",
      " [4 5 6]\n",
      " [7 8 9]]\n",
      "\n",
      " Matriz Coluna: \n",
      "[2 5 8]\n",
      "\n",
      " Matriz Linha: \n",
      "[4 5 6]\n",
      "\n",
      " Matriz pedaço: \n",
      "[[5 6]\n",
      " [8 9]]\n"
     ]
    }
   ],
   "source": [
    "#criando matriz bidimensional\n",
    "arrayCortes.shape= (3,3)\n",
    "print(\"Matriz inicial: \")\n",
    "print(arrayCortes)\n",
    "\n",
    "#podemos imprimir só uma coluna específica\n",
    "print(\"\\n\",\"Matriz Coluna: \")\n",
    "print(arrayCortes[:,1]) \n",
    "\n",
    "#ou uma linha específica\n",
    "print(\"\\n\",\"Matriz Linha: \")\n",
    "print(arrayCortes[1,:])\n",
    "\n",
    "#até mesmo um pedaço da matriz\n",
    "print(\"\\n\",\"Matriz pedaço: \")\n",
    "print(arrayCortes[1:,1:])"
   ]
  },
  {
   "cell_type": "markdown",
   "metadata": {
    "colab_type": "text",
    "id": "kHhU6-yThoyI"
   },
   "source": [
    "Agora vamos ver alguns métodos matemáticos do Numpy:"
   ]
  },
  {
   "cell_type": "code",
   "execution_count": 29,
   "metadata": {
    "colab": {
     "base_uri": "https://localhost:8080/",
     "height": 340
    },
    "colab_type": "code",
    "executionInfo": {
     "elapsed": 1080,
     "status": "ok",
     "timestamp": 1548965445541,
     "user": {
      "displayName": "Felipe Maia Polo",
      "photoUrl": "",
      "userId": "16246715126141793310"
     },
     "user_tz": 120
    },
    "id": "ZXrJtAnOhppw",
    "outputId": "e60fd024-fa49-4cf7-81af-9e07631d7d80"
   },
   "outputs": [
    {
     "name": "stdout",
     "output_type": "stream",
     "text": [
      "Array Inicial:  [1 0 3 6 2 1 7 5 2]\n",
      "\n",
      " Array ordenado:  [0 1 1 2 2 3 5 6 7]\n",
      "\n",
      " Soma dos elementos:  27\n",
      "\n",
      " Média dos elementos:  3.0\n",
      "\n",
      " Array maior elemento:  7\n",
      "\n",
      " Transposta: \n",
      "[[0 2 5]\n",
      " [1 2 6]\n",
      " [1 3 7]]\n",
      "\n",
      " Inversa: \n",
      "[[-1.33333333 -0.33333333  0.33333333]\n",
      " [ 0.33333333 -1.66666667  0.66666667]\n",
      " [ 0.66666667  1.66666667 -0.66666667]]\n"
     ]
    }
   ],
   "source": [
    "#Criando array\n",
    "A = np.array([1,0,3,6,2,1,7,5,2])\n",
    "print(\"Array Inicial: \",A)\n",
    "\n",
    "#Ordenando o array\n",
    "A.sort()\n",
    "print(\"\\n\",\"Array ordenado: \",A)\n",
    "\n",
    "#Soma elementos do array\n",
    "print(\"\\n\",\"Soma dos elementos: \",A.sum())\n",
    "\n",
    "#Média dos elementos do array\n",
    "print(\"\\n\",\"Média dos elementos: \",A.mean())\n",
    "\n",
    "#Maior elemento\n",
    "print(\"\\n\",\"Array maior elemento: \",A.max())\n",
    "\n",
    "#Transposta de um matriz\n",
    "A.shape =(3,3)\n",
    "print(\"\\n\",\"Transposta: \")\n",
    "print(A.T)\n",
    "\n",
    "#Matriz Inversa\n",
    "print(\"\\n\",\"Inversa: \")\n",
    "print(np.linalg.inv(A))"
   ]
  },
  {
   "cell_type": "markdown",
   "metadata": {
    "colab_type": "text",
    "id": "1dWF2Wy1iuvE"
   },
   "source": [
    "Com matrizes (_array_ bidimensional) é a mesma coisa, com exceção da multiplicação - a veremos agora. Primeiramente, lembremos que para multiplicar duas matrizes (A e B) o número de colunas da matriz A tem que ser iqual ao número de linhas da Coluna B:"
   ]
  },
  {
   "cell_type": "markdown",
   "metadata": {
    "colab_type": "text",
    "id": "Nypyzx9iiCrT"
   },
   "source": [
    "Podemos realizar operações algébricas de maneira muito simples:"
   ]
  },
  {
   "cell_type": "code",
   "execution_count": 30,
   "metadata": {
    "colab": {
     "base_uri": "https://localhost:8080/",
     "height": 255
    },
    "colab_type": "code",
    "executionInfo": {
     "elapsed": 626,
     "status": "ok",
     "timestamp": 1548965584008,
     "user": {
      "displayName": "Felipe Maia Polo",
      "photoUrl": "",
      "userId": "16246715126141793310"
     },
     "user_tz": 120
    },
    "id": "Fog9DYWuhpuO",
    "outputId": "45c075e2-8c19-414a-e6f8-0d3ba5d3b9d0"
   },
   "outputs": [
    {
     "name": "stdout",
     "output_type": "stream",
     "text": [
      "Matriz A: \n",
      "[[1 2]\n",
      " [3 4]] \n",
      "\n",
      "Matriz B: \n",
      "[[5 6]\n",
      " [7 8]] \n",
      "\n",
      "Matriz A X B : \n",
      "[[19 22]\n",
      " [43 50]] \n",
      "\n",
      "Array [2,3] x A : \n",
      "[11 16]\n"
     ]
    }
   ],
   "source": [
    "A = np.array([1,2,3,4])\n",
    "B=np.array([5,6,7,8])\n",
    "\n",
    "A.shape=(2,2)\n",
    "B.shape=(2,2)\n",
    "\n",
    "print(\"Matriz A: \")\n",
    "print(A, \"\\n\")\n",
    "\n",
    "print(\"Matriz B: \")\n",
    "print(B, \"\\n\")\n",
    "\n",
    "#Matriz A X B\n",
    "print(\"Matriz A X B : \")\n",
    "print(A @ B, \"\\n\")\n",
    "\n",
    "#Array X matriz\n",
    "print(\"Array [2,3] x A : \")\n",
    "print( [2,3] @ A)"
   ]
  },
  {
   "cell_type": "markdown",
   "metadata": {
    "colab_type": "text",
    "id": "qtTD4iKh8FAD"
   },
   "source": [
    "## Pandas\n",
    "\n",
    "Conheceremos agora uma das bibliotecas mais importantes e mais usadas para a manipulação e análises de dados no Python - o Pandas. O Pandas oferece diversas funções que facilitam a manipulação e visualização dos dados."
   ]
  },
  {
   "cell_type": "code",
   "execution_count": 32,
   "metadata": {
    "colab": {},
    "colab_type": "code",
    "id": "vRWcQb4A8GrA"
   },
   "outputs": [],
   "source": [
    "#Importando a biblioteca\n",
    "import pandas as pd"
   ]
  },
  {
   "cell_type": "markdown",
   "metadata": {
    "colab_type": "text",
    "id": "KhG7EsHMmxMo"
   },
   "source": [
    "Como dito anteriormente, o Pandas facilita a visualização de dados por causa da estrutura que ele é capaz de comportar as bases de dados - essa estrutura é chamada de DataFrame. Vamos criar um dicionário e depois transformá-lo em DataFrame para vermos sua estrutura:"
   ]
  },
  {
   "cell_type": "code",
   "execution_count": 36,
   "metadata": {
    "colab": {
     "base_uri": "https://localhost:8080/",
     "height": 119
    },
    "colab_type": "code",
    "executionInfo": {
     "elapsed": 727,
     "status": "ok",
     "timestamp": 1548966671387,
     "user": {
      "displayName": "Felipe Maia Polo",
      "photoUrl": "",
      "userId": "16246715126141793310"
     },
     "user_tz": 120
    },
    "id": "q51QCHiSmxXN",
    "outputId": "45c1178f-291c-4a16-9d95-5783f4cbfa77"
   },
   "outputs": [
    {
     "name": "stdout",
     "output_type": "stream",
     "text": [
      "            País    Capital    Área  População\n",
      "0         Brasil   Brasília   8.516      200.4\n",
      "1         Rússia     Moscou  17.100      143.5\n",
      "2          Índia  Nova Deli   3.286     1252.0\n",
      "3          China     Pequim   9.597     1357.0\n",
      "4  África do Sul   Pretória   1.221       52.9\n"
     ]
    }
   ],
   "source": [
    "dicionario =  {\"País\": [\"Brasil\", \"Rússia\", \"Índia\", \"China\", \"África do Sul\"],\n",
    "       \"Capital\": [\"Brasília\", \"Moscou\", \"Nova Deli\", \"Pequim\", \"Pretória\"],\n",
    "       \"Área\": [8.516, 17.10, 3.286, 9.597, 1.221],\n",
    "       \"População\": [200.4, 143.5, 1252, 1357, 52.9]}\n",
    "               \n",
    "Brics = pd.DataFrame(dicionario)\n",
    "print(Brics)"
   ]
  },
  {
   "cell_type": "markdown",
   "metadata": {
    "colab_type": "text",
    "id": "WYzD9AvfwUzc"
   },
   "source": [
    "Podemos checar as variáveis contidas nesse com a função \".columns\":"
   ]
  },
  {
   "cell_type": "code",
   "execution_count": 34,
   "metadata": {
    "colab": {
     "base_uri": "https://localhost:8080/",
     "height": 34
    },
    "colab_type": "code",
    "executionInfo": {
     "elapsed": 645,
     "status": "ok",
     "timestamp": 1548969350431,
     "user": {
      "displayName": "Felipe Maia Polo",
      "photoUrl": "",
      "userId": "16246715126141793310"
     },
     "user_tz": 120
    },
    "id": "Il_gObMBnC9w",
    "outputId": "a31bdaa6-2ed6-4011-a530-8ec6423b39c1"
   },
   "outputs": [
    {
     "data": {
      "text/plain": [
       "Index(['País', 'Capital', 'Área', 'População'], dtype='object')"
      ]
     },
     "execution_count": 34,
     "metadata": {},
     "output_type": "execute_result"
    }
   ],
   "source": [
    "#Variáveis\n",
    "Brics.columns"
   ]
  },
  {
   "cell_type": "markdown",
   "metadata": {
    "colab_type": "text",
    "id": "YFNea2MUwue1"
   },
   "source": [
    "Podemos ver mais ou menos o que está contido no data set utilizando a função \".head()\". Ela retorna as cinco primeiras linhas da base de dados:"
   ]
  },
  {
   "cell_type": "code",
   "execution_count": 35,
   "metadata": {
    "colab": {
     "base_uri": "https://localhost:8080/",
     "height": 204
    },
    "colab_type": "code",
    "executionInfo": {
     "elapsed": 637,
     "status": "ok",
     "timestamp": 1548969351898,
     "user": {
      "displayName": "Felipe Maia Polo",
      "photoUrl": "",
      "userId": "16246715126141793310"
     },
     "user_tz": 120
    },
    "id": "cdEr7z93nYJS",
    "outputId": "ff3bbc70-31f0-4ea9-9a78-a7509d0a9277"
   },
   "outputs": [
    {
     "data": {
      "text/html": [
       "<div>\n",
       "<style scoped>\n",
       "    .dataframe tbody tr th:only-of-type {\n",
       "        vertical-align: middle;\n",
       "    }\n",
       "\n",
       "    .dataframe tbody tr th {\n",
       "        vertical-align: top;\n",
       "    }\n",
       "\n",
       "    .dataframe thead th {\n",
       "        text-align: right;\n",
       "    }\n",
       "</style>\n",
       "<table border=\"1\" class=\"dataframe\">\n",
       "  <thead>\n",
       "    <tr style=\"text-align: right;\">\n",
       "      <th></th>\n",
       "      <th>País</th>\n",
       "      <th>Capital</th>\n",
       "      <th>Área</th>\n",
       "      <th>População</th>\n",
       "    </tr>\n",
       "  </thead>\n",
       "  <tbody>\n",
       "    <tr>\n",
       "      <th>0</th>\n",
       "      <td>Brasil</td>\n",
       "      <td>Brasília</td>\n",
       "      <td>8.516</td>\n",
       "      <td>200.4</td>\n",
       "    </tr>\n",
       "    <tr>\n",
       "      <th>1</th>\n",
       "      <td>Rússia</td>\n",
       "      <td>Moscou</td>\n",
       "      <td>17.100</td>\n",
       "      <td>143.5</td>\n",
       "    </tr>\n",
       "    <tr>\n",
       "      <th>2</th>\n",
       "      <td>Índia</td>\n",
       "      <td>Nova Deli</td>\n",
       "      <td>3.286</td>\n",
       "      <td>1252.0</td>\n",
       "    </tr>\n",
       "    <tr>\n",
       "      <th>3</th>\n",
       "      <td>China</td>\n",
       "      <td>Pequim</td>\n",
       "      <td>9.597</td>\n",
       "      <td>1357.0</td>\n",
       "    </tr>\n",
       "    <tr>\n",
       "      <th>4</th>\n",
       "      <td>África do Sul</td>\n",
       "      <td>Pretória</td>\n",
       "      <td>1.221</td>\n",
       "      <td>52.9</td>\n",
       "    </tr>\n",
       "  </tbody>\n",
       "</table>\n",
       "</div>"
      ],
      "text/plain": [
       "            País    Capital    Área  População\n",
       "0         Brasil   Brasília   8.516      200.4\n",
       "1         Rússia     Moscou  17.100      143.5\n",
       "2          Índia  Nova Deli   3.286     1252.0\n",
       "3          China     Pequim   9.597     1357.0\n",
       "4  África do Sul   Pretória   1.221       52.9"
      ]
     },
     "execution_count": 35,
     "metadata": {},
     "output_type": "execute_result"
    }
   ],
   "source": [
    "Brics.head()"
   ]
  },
  {
   "cell_type": "markdown",
   "metadata": {},
   "source": [
    "É possível também tirar algumas medidas descritivas das variáveis numéricas:"
   ]
  },
  {
   "cell_type": "code",
   "execution_count": 36,
   "metadata": {},
   "outputs": [
    {
     "data": {
      "text/html": [
       "<div>\n",
       "<style scoped>\n",
       "    .dataframe tbody tr th:only-of-type {\n",
       "        vertical-align: middle;\n",
       "    }\n",
       "\n",
       "    .dataframe tbody tr th {\n",
       "        vertical-align: top;\n",
       "    }\n",
       "\n",
       "    .dataframe thead th {\n",
       "        text-align: right;\n",
       "    }\n",
       "</style>\n",
       "<table border=\"1\" class=\"dataframe\">\n",
       "  <thead>\n",
       "    <tr style=\"text-align: right;\">\n",
       "      <th></th>\n",
       "      <th>Área</th>\n",
       "      <th>População</th>\n",
       "    </tr>\n",
       "  </thead>\n",
       "  <tbody>\n",
       "    <tr>\n",
       "      <th>count</th>\n",
       "      <td>5.000000</td>\n",
       "      <td>5.000000</td>\n",
       "    </tr>\n",
       "    <tr>\n",
       "      <th>mean</th>\n",
       "      <td>7.944000</td>\n",
       "      <td>601.160000</td>\n",
       "    </tr>\n",
       "    <tr>\n",
       "      <th>std</th>\n",
       "      <td>6.200557</td>\n",
       "      <td>645.278446</td>\n",
       "    </tr>\n",
       "    <tr>\n",
       "      <th>min</th>\n",
       "      <td>1.221000</td>\n",
       "      <td>52.900000</td>\n",
       "    </tr>\n",
       "    <tr>\n",
       "      <th>25%</th>\n",
       "      <td>3.286000</td>\n",
       "      <td>143.500000</td>\n",
       "    </tr>\n",
       "    <tr>\n",
       "      <th>50%</th>\n",
       "      <td>8.516000</td>\n",
       "      <td>200.400000</td>\n",
       "    </tr>\n",
       "    <tr>\n",
       "      <th>75%</th>\n",
       "      <td>9.597000</td>\n",
       "      <td>1252.000000</td>\n",
       "    </tr>\n",
       "    <tr>\n",
       "      <th>max</th>\n",
       "      <td>17.100000</td>\n",
       "      <td>1357.000000</td>\n",
       "    </tr>\n",
       "  </tbody>\n",
       "</table>\n",
       "</div>"
      ],
      "text/plain": [
       "            Área    População\n",
       "count   5.000000     5.000000\n",
       "mean    7.944000   601.160000\n",
       "std     6.200557   645.278446\n",
       "min     1.221000    52.900000\n",
       "25%     3.286000   143.500000\n",
       "50%     8.516000   200.400000\n",
       "75%     9.597000  1252.000000\n",
       "max    17.100000  1357.000000"
      ]
     },
     "execution_count": 36,
     "metadata": {},
     "output_type": "execute_result"
    }
   ],
   "source": [
    "Brics.describe()"
   ]
  }
 ],
 "metadata": {
  "accelerator": "GPU",
  "colab": {
   "collapsed_sections": [
    "M1iJNDuRW_5R"
   ],
   "name": "Curso de Data Science.ipynb",
   "provenance": [],
   "version": "0.3.2"
  },
  "kernelspec": {
   "display_name": "Python 3",
   "language": "python",
   "name": "python3"
  },
  "language_info": {
   "codemirror_mode": {
    "name": "ipython",
    "version": 3
   },
   "file_extension": ".py",
   "mimetype": "text/x-python",
   "name": "python",
   "nbconvert_exporter": "python",
   "pygments_lexer": "ipython3",
   "version": "3.7.3"
  }
 },
 "nbformat": 4,
 "nbformat_minor": 1
}
